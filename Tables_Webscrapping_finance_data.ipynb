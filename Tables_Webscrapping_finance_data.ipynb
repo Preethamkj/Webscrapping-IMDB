{
 "cells": [
  {
   "cell_type": "code",
   "execution_count": 1,
   "id": "a8203500",
   "metadata": {},
   "outputs": [],
   "source": [
    "from bs4 import BeautifulSoup\n",
    "import requests\n",
    "import pandas as pd"
   ]
  },
  {
   "cell_type": "code",
   "execution_count": 2,
   "id": "8b1c6835",
   "metadata": {},
   "outputs": [],
   "source": [
    "headers= {\n",
    "    'user-agent': 'Mozilla/5.0 (Windows NT 10.0; Win64; x64; rv:87.0) Gecko/20100101 Firefox/87.0',\n",
    "    'Accept': 'text/html,application/xhtml+xml,application/xml;q=0.9,image/webp,*/*;q=0.8',\n",
    "    'Accept-Language': 'en-US,en;q=0.5',\n",
    "    'Connection': 'keep-alive',\n",
    "    'Upgrade-Insecure-Requests': '1',\n",
    "    'Cache-Control': 'max-age=0'\n",
    "}"
   ]
  },
  {
   "cell_type": "code",
   "execution_count": 8,
   "id": "e233cc64",
   "metadata": {},
   "outputs": [
    {
     "name": "stderr",
     "output_type": "stream",
     "text": [
      "C:\\Users\\preet\\AppData\\Local\\Temp\\ipykernel_23496\\2536393340.py:21: FutureWarning: save is not part of the public API, usage can give unexpected results and will be removed in a future version\n",
      "  xlwriter.save()\n"
     ]
    }
   ],
   "source": [
    "ticker = 'FB'\n",
    "\n",
    "urls = {}\n",
    "urls['income annually'] = f\"https://stockanalysis.com/stocks/{ticker}/financials/\"\n",
    "urls['income quarterly'] = f\"https://stockanalysis.com/stocks/{ticker}/financials/?p=quarterly\"\n",
    "urls['balance sheet annually'] = f\"https://stockanalysis.com/stocks/{ticker}/financials/balance-sheet/\"\n",
    "urls['balance sheet quarterly'] = f\"https://stockanalysis.com/stocks/{ticker}/financials/balance-sheet/?period=quarterly\"\n",
    "urls['cash flow annually'] = f\"https://stockanalysis.com/stocks/{ticker}/financials/cash-flow-statement/\"\n",
    "urls['cash flow quarterly'] = f\"https://stockanalysis.com/stocks/{ticker}/financials/cash-flow-statement/?period=quarterly\"\n",
    "urls['ratio annually'] = f\"https://stockanalysis.com/stocks/{ticker}/financials/ratios/\"\n",
    "urls['ratio quarterly'] = f\"https://stockanalysis.com/stocks/{ticker}/financials/ratios/?period=quarterly\"\n",
    "\n",
    "xlwriter = pd.ExcelWriter(f'J:/GitHub/financial statements ({ticker}).xlsx')\n",
    "\n",
    "for key in urls.keys():\n",
    "    response = requests.get(urls[key], headers=headers)\n",
    "    soup = BeautifulSoup(response.content, 'html.parser')\n",
    "    df = pd.read_html(str(soup), attrs={'data-test': 'financials'})[0]\n",
    "    df.to_excel(xlwriter, sheet_name=key, index=False)\n",
    "\n",
    "xlwriter.save()"
   ]
  },
  {
   "cell_type": "code",
   "execution_count": null,
   "id": "616c927d",
   "metadata": {},
   "outputs": [],
   "source": []
  }
 ],
 "metadata": {
  "kernelspec": {
   "display_name": "Python 3 (ipykernel)",
   "language": "python",
   "name": "python3"
  },
  "language_info": {
   "codemirror_mode": {
    "name": "ipython",
    "version": 3
   },
   "file_extension": ".py",
   "mimetype": "text/x-python",
   "name": "python",
   "nbconvert_exporter": "python",
   "pygments_lexer": "ipython3",
   "version": "3.9.16"
  }
 },
 "nbformat": 4,
 "nbformat_minor": 5
}
